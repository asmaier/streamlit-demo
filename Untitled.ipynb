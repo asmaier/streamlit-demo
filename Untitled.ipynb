{
 "cells": [
  {
   "cell_type": "code",
   "execution_count": 14,
   "id": "68c0216b-d198-490c-a30e-433bc2d9a0b6",
   "metadata": {},
   "outputs": [
    {
     "ename": "ModuleNotFoundError",
     "evalue": "No module named 'numpy'",
     "output_type": "error",
     "traceback": [
      "\u001b[0;31m---------------------------------------------------------------------------\u001b[0m",
      "\u001b[0;31mModuleNotFoundError\u001b[0m                       Traceback (most recent call last)",
      "Input \u001b[0;32mIn [14]\u001b[0m, in \u001b[0;36m<cell line: 1>\u001b[0;34m()\u001b[0m\n\u001b[0;32m----> 1\u001b[0m \u001b[38;5;28;01mfrom\u001b[39;00m \u001b[38;5;21;01mscipy\u001b[39;00m \u001b[38;5;28;01mimport\u001b[39;00m stats\n",
      "File \u001b[0;32m~/.local/share/virtualenvs/streamlit-demo-wfkvD2hi/lib/python3.9/site-packages/scipy/__init__.py:73\u001b[0m, in \u001b[0;36m<module>\u001b[0;34m\u001b[0m\n\u001b[1;32m     69\u001b[0m     \u001b[38;5;28;01mraise\u001b[39;00m \u001b[38;5;167;01mRuntimeError\u001b[39;00m(_msg)\n\u001b[1;32m     70\u001b[0m \u001b[38;5;28;01mdel\u001b[39;00m sys\n\u001b[0;32m---> 73\u001b[0m \u001b[38;5;28;01mfrom\u001b[39;00m \u001b[38;5;21;01mnumpy\u001b[39;00m \u001b[38;5;28;01mimport\u001b[39;00m show_config \u001b[38;5;28;01mas\u001b[39;00m show_numpy_config\n\u001b[1;32m     74\u001b[0m \u001b[38;5;28;01mif\u001b[39;00m show_numpy_config \u001b[38;5;129;01mis\u001b[39;00m \u001b[38;5;28;01mNone\u001b[39;00m:\n\u001b[1;32m     75\u001b[0m     \u001b[38;5;28;01mraise\u001b[39;00m \u001b[38;5;167;01mImportError\u001b[39;00m(\n\u001b[1;32m     76\u001b[0m         \u001b[38;5;124m\"\u001b[39m\u001b[38;5;124mCannot import SciPy when running from NumPy source directory.\u001b[39m\u001b[38;5;124m\"\u001b[39m)\n",
      "\u001b[0;31mModuleNotFoundError\u001b[0m: No module named 'numpy'"
     ]
    }
   ],
   "source": [
    "from scipy import stats"
   ]
  },
  {
   "cell_type": "code",
   "execution_count": 9,
   "id": "5350f363-d554-4e27-a433-b1f3a6abce2a",
   "metadata": {},
   "outputs": [],
   "source": [
    "def n_inf(z,c,p=0.5):\n",
    "    return (z/c)**2*p*(1-p)\n",
    "\n",
    "def n(N, n_inf):\n",
    "    return n_inf/(1+(n_inf-1/N))"
   ]
  },
  {
   "cell_type": "code",
   "execution_count": 11,
   "id": "15ca1869-02e5-46f5-80ac-c0780ce82df4",
   "metadata": {},
   "outputs": [
    {
     "data": {
      "text/plain": [
       "1.0641551246537397"
      ]
     },
     "execution_count": 11,
     "metadata": {},
     "output_type": "execute_result"
    }
   ],
   "source": [
    "n_inf(1.96,0.95)"
   ]
  },
  {
   "cell_type": "code",
   "execution_count": null,
   "id": "d8b80187-627b-469f-8df9-ca4871556114",
   "metadata": {},
   "outputs": [],
   "source": []
  }
 ],
 "metadata": {
  "kernelspec": {
   "display_name": "Python 3 (ipykernel)",
   "language": "python",
   "name": "python3"
  },
  "language_info": {
   "codemirror_mode": {
    "name": "ipython",
    "version": 3
   },
   "file_extension": ".py",
   "mimetype": "text/x-python",
   "name": "python",
   "nbconvert_exporter": "python",
   "pygments_lexer": "ipython3",
   "version": "3.9.18"
  }
 },
 "nbformat": 4,
 "nbformat_minor": 5
}
