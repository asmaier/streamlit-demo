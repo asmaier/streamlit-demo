{
 "cells": [
  {
   "cell_type": "code",
   "execution_count": 8,
   "id": "c986d63b-3a40-433a-befe-30447a202bdd",
   "metadata": {},
   "outputs": [],
   "source": [
    "# see https://epic.gsfc.nasa.gov/about/api"
   ]
  },
  {
   "cell_type": "code",
   "execution_count": 22,
   "id": "d0314302-6e07-4af6-a530-113d85fc8344",
   "metadata": {},
   "outputs": [],
   "source": [
    "import requests\n",
    "import pandas as pd"
   ]
  },
  {
   "cell_type": "code",
   "execution_count": 3,
   "id": "6e753141-3fa5-458c-becf-8c8c75258017",
   "metadata": {},
   "outputs": [],
   "source": [
    "resp = requests.get(\"https://epic.gsfc.nasa.gov/api/natural\")"
   ]
  },
  {
   "cell_type": "code",
   "execution_count": 7,
   "id": "e3b67bc4-4672-4446-9580-b4c5f1b32ec9",
   "metadata": {},
   "outputs": [
    {
     "data": {
      "text/plain": [
       "[{'identifier': '20231113005515',\n",
       "  'caption': \"This image was taken by NASA's EPIC camera onboard the NOAA DSCOVR spacecraft\",\n",
       "  'image': 'epic_1b_20231113005515',\n",
       "  'version': '03',\n",
       "  'centroid_coordinates': {'lat': -11.733398, 'lon': 158.90625},\n",
       "  'dscovr_j2000_position': {'x': -1092763.275001,\n",
       "   'y': -1061459.706249,\n",
       "   'z': -316946.044742},\n",
       "  'lunar_j2000_position': {'x': -270487.736574,\n",
       "   'y': -249762.344397,\n",
       "   'z': -122292.296099},\n",
       "  'sun_j2000_position': {'x': -95089946.00011,\n",
       "   'y': -104141319.599918,\n",
       "   'z': -45143405.150246},\n",
       "  'attitude_quaternions': {'q0': -0.18984,\n",
       "   'q1': -0.184135,\n",
       "   'q2': 0.33911,\n",
       "   'q3': 0.902805},\n",
       "  'date': '2023-11-13 00:50:27',\n",
       "  'coords': {'centroid_coordinates': {'lat': -11.733398, 'lon': 158.90625},\n",
       "   'dscovr_j2000_position': {'x': -1092763.275001,\n",
       "    'y': -1061459.706249,\n",
       "    'z': -316946.044742},\n",
       "   'lunar_j2000_position': {'x': -270487.736574,\n",
       "    'y': -249762.344397,\n",
       "    'z': -122292.296099},\n",
       "   'sun_j2000_position': {'x': -95089946.00011,\n",
       "    'y': -104141319.599918,\n",
       "    'z': -45143405.150246},\n",
       "   'attitude_quaternions': {'q0': -0.18984,\n",
       "    'q1': -0.184135,\n",
       "    'q2': 0.33911,\n",
       "    'q3': 0.902805}}},\n",
       " {'identifier': '20231113024318',\n",
       "  'caption': \"This image was taken by NASA's EPIC camera onboard the NOAA DSCOVR spacecraft\",\n",
       "  'image': 'epic_1b_20231113024318',\n",
       "  'version': '03',\n",
       "  'centroid_coordinates': {'lat': -11.828613, 'lon': 131.872559},\n",
       "  'dscovr_j2000_position': {'x': -1091629.55,\n",
       "   'y': -1062225.826361,\n",
       "   'z': -317654.734375},\n",
       "  'lunar_j2000_position': {'x': -265524.155827,\n",
       "   'y': -253512.354709,\n",
       "   'z': -124515.552966},\n",
       "  'sun_j2000_position': {'x': -94938643.333321,\n",
       "   'y': -104254382.699845,\n",
       "   'z': -45192424.383283},\n",
       "  'attitude_quaternions': {'q0': -0.191293,\n",
       "   'q1': -0.18501,\n",
       "   'q2': 0.339066,\n",
       "   'q3': 0.902337},\n",
       "  'date': '2023-11-13 02:38:29',\n",
       "  'coords': {'centroid_coordinates': {'lat': -11.828613, 'lon': 131.872559},\n",
       "   'dscovr_j2000_position': {'x': -1091629.55,\n",
       "    'y': -1062225.826361,\n",
       "    'z': -317654.734375},\n",
       "   'lunar_j2000_position': {'x': -265524.155827,\n",
       "    'y': -253512.354709,\n",
       "    'z': -124515.552966},\n",
       "   'sun_j2000_position': {'x': -94938643.333321,\n",
       "    'y': -104254382.699845,\n",
       "    'z': -45192424.383283},\n",
       "   'attitude_quaternions': {'q0': -0.191293,\n",
       "    'q1': -0.18501,\n",
       "    'q2': 0.339066,\n",
       "    'q3': 0.902337}}},\n",
       " {'identifier': '20231113043120',\n",
       "  'caption': \"This image was taken by NASA's EPIC camera onboard the NOAA DSCOVR spacecraft\",\n",
       "  'image': 'epic_1b_20231113043120',\n",
       "  'version': '03',\n",
       "  'centroid_coordinates': {'lat': -11.828613, 'lon': 104.816895},\n",
       "  'dscovr_j2000_position': {'x': -1090493.208017,\n",
       "   'y': -1062989.99115,\n",
       "   'z': -318363.453124},\n",
       "  'lunar_j2000_position': {'x': -260483.372581,\n",
       "   'y': -257190.110981,\n",
       "   'z': -126703.299337},\n",
       "  'sun_j2000_position': {'x': -94787180.185385,\n",
       "   'y': -104367265.300061,\n",
       "   'z': -45241365.773623},\n",
       "  'attitude_quaternions': {'q0': -0.19275,\n",
       "   'q1': -0.18593,\n",
       "   'q2': 0.33908,\n",
       "   'q3': 0.901829},\n",
       "  'date': '2023-11-13 04:26:31',\n",
       "  'coords': {'centroid_coordinates': {'lat': -11.828613, 'lon': 104.816895},\n",
       "   'dscovr_j2000_position': {'x': -1090493.208017,\n",
       "    'y': -1062989.99115,\n",
       "    'z': -318363.453124},\n",
       "   'lunar_j2000_position': {'x': -260483.372581,\n",
       "    'y': -257190.110981,\n",
       "    'z': -126703.299337},\n",
       "   'sun_j2000_position': {'x': -94787180.185385,\n",
       "    'y': -104367265.300061,\n",
       "    'z': -45241365.773623},\n",
       "   'attitude_quaternions': {'q0': -0.19275,\n",
       "    'q1': -0.18593,\n",
       "    'q2': 0.33908,\n",
       "    'q3': 0.901829}}},\n",
       " {'identifier': '20231113061922',\n",
       "  'caption': \"This image was taken by NASA's EPIC camera onboard the NOAA DSCOVR spacecraft\",\n",
       "  'image': 'epic_1b_20231113061922',\n",
       "  'version': '03',\n",
       "  'centroid_coordinates': {'lat': -11.828613, 'lon': 77.790527},\n",
       "  'dscovr_j2000_position': {'x': -1089354.052034,\n",
       "   'y': -1063752.473258,\n",
       "   'z': -319072.28125},\n",
       "  'lunar_j2000_position': {'x': -255368.197232,\n",
       "   'y': -260793.261386,\n",
       "   'z': -128854.151504},\n",
       "  'sun_j2000_position': {'x': -94635530.002012,\n",
       "   'y': -104479981.333322,\n",
       "   'z': -45290236.133329},\n",
       "  'attitude_quaternions': {'q0': -0.19421,\n",
       "   'q1': -0.18683,\n",
       "   'q2': 0.33907,\n",
       "   'q3': 0.90134},\n",
       "  'date': '2023-11-13 06:14:34',\n",
       "  'coords': {'centroid_coordinates': {'lat': -11.828613, 'lon': 77.790527},\n",
       "   'dscovr_j2000_position': {'x': -1089354.052034,\n",
       "    'y': -1063752.473258,\n",
       "    'z': -319072.28125},\n",
       "   'lunar_j2000_position': {'x': -255368.197232,\n",
       "    'y': -260793.261386,\n",
       "    'z': -128854.151504},\n",
       "   'sun_j2000_position': {'x': -94635530.002012,\n",
       "    'y': -104479981.333322,\n",
       "    'z': -45290236.133329},\n",
       "   'attitude_quaternions': {'q0': -0.19421,\n",
       "    'q1': -0.18683,\n",
       "    'q2': 0.33907,\n",
       "    'q3': 0.90134}}},\n",
       " {'identifier': '20231113080724',\n",
       "  'caption': \"This image was taken by NASA's EPIC camera onboard the NOAA DSCOVR spacecraft\",\n",
       "  'image': 'epic_1b_20231113080724',\n",
       "  'version': '03',\n",
       "  'centroid_coordinates': {'lat': -11.901855, 'lon': 50.793457},\n",
       "  'dscovr_j2000_position': {'x': -1088212.452982,\n",
       "   'y': -1064512.825,\n",
       "   'z': -319781.0625},\n",
       "  'lunar_j2000_position': {'x': -250179.213562,\n",
       "   'y': -264321.132715,\n",
       "   'z': -130967.72002},\n",
       "  'sun_j2000_position': {'x': -94483739.199958,\n",
       "   'y': -104592504.000031,\n",
       "   'z': -45339019.200013},\n",
       "  'attitude_quaternions': {'q0': -0.19565,\n",
       "   'q1': -0.18776,\n",
       "   'q2': 0.33909,\n",
       "   'q3': 0.90083},\n",
       "  'date': '2023-11-13 08:02:36',\n",
       "  'coords': {'centroid_coordinates': {'lat': -11.901855, 'lon': 50.793457},\n",
       "   'dscovr_j2000_position': {'x': -1088212.452982,\n",
       "    'y': -1064512.825,\n",
       "    'z': -319781.0625},\n",
       "   'lunar_j2000_position': {'x': -250179.213562,\n",
       "    'y': -264321.132715,\n",
       "    'z': -130967.72002},\n",
       "   'sun_j2000_position': {'x': -94483739.199958,\n",
       "    'y': -104592504.000031,\n",
       "    'z': -45339019.200013},\n",
       "   'attitude_quaternions': {'q0': -0.19565,\n",
       "    'q1': -0.18776,\n",
       "    'q2': 0.33909,\n",
       "    'q3': 0.90083}}},\n",
       " {'identifier': '20231113095527',\n",
       "  'caption': \"This image was taken by NASA's EPIC camera onboard the NOAA DSCOVR spacecraft\",\n",
       "  'image': 'epic_1b_20231113095527',\n",
       "  'version': '03',\n",
       "  'centroid_coordinates': {'lat': -11.916504, 'lon': 23.781738},\n",
       "  'dscovr_j2000_position': {'x': -1087068.270834,\n",
       "   'y': -1065271.308333,\n",
       "   'z': -320489.8125},\n",
       "  'lunar_j2000_position': {'x': -244917.788237,\n",
       "   'y': -267772.510332,\n",
       "   'z': -133043.307257},\n",
       "  'sun_j2000_position': {'x': -94331788.608303,\n",
       "   'y': -104704842.666613,\n",
       "   'z': -45387723.610009},\n",
       "  'attitude_quaternions': {'q0': -0.19708,\n",
       "   'q1': -0.18866,\n",
       "   'q2': 0.33906,\n",
       "   'q3': 0.90033},\n",
       "  'date': '2023-11-13 09:50:38',\n",
       "  'coords': {'centroid_coordinates': {'lat': -11.916504, 'lon': 23.781738},\n",
       "   'dscovr_j2000_position': {'x': -1087068.270834,\n",
       "    'y': -1065271.308333,\n",
       "    'z': -320489.8125},\n",
       "   'lunar_j2000_position': {'x': -244917.788237,\n",
       "    'y': -267772.510332,\n",
       "    'z': -133043.307257},\n",
       "   'sun_j2000_position': {'x': -94331788.608303,\n",
       "    'y': -104704842.666613,\n",
       "    'z': -45387723.610009},\n",
       "   'attitude_quaternions': {'q0': -0.19708,\n",
       "    'q1': -0.18866,\n",
       "    'q2': 0.33906,\n",
       "    'q3': 0.90033}}},\n",
       " {'identifier': '20231113114329',\n",
       "  'caption': \"This image was taken by NASA's EPIC camera onboard the NOAA DSCOVR spacecraft\",\n",
       "  'image': 'epic_1b_20231113114329',\n",
       "  'version': '03',\n",
       "  'centroid_coordinates': {'lat': -11.901855, 'lon': -3.303223},\n",
       "  'dscovr_j2000_position': {'x': -1085921.541667,\n",
       "   'y': -1066027.791667,\n",
       "   'z': -321198.59375},\n",
       "  'lunar_j2000_position': {'x': -239584.473593,\n",
       "   'y': -271146.732344,\n",
       "   'z': -135080.530601},\n",
       "  'sun_j2000_position': {'x': -94179669.333342,\n",
       "   'y': -104816997.035887,\n",
       "   'z': -45436350.371684},\n",
       "  'attitude_quaternions': {'q0': -0.198514,\n",
       "   'q1': -0.189564,\n",
       "   'q2': 0.339039,\n",
       "   'q3': 0.899834},\n",
       "  'date': '2023-11-13 11:38:40',\n",
       "  'coords': {'centroid_coordinates': {'lat': -11.901855, 'lon': -3.303223},\n",
       "   'dscovr_j2000_position': {'x': -1085921.541667,\n",
       "    'y': -1066027.791667,\n",
       "    'z': -321198.59375},\n",
       "   'lunar_j2000_position': {'x': -239584.473593,\n",
       "    'y': -271146.732344,\n",
       "    'z': -135080.530601},\n",
       "   'sun_j2000_position': {'x': -94179669.333342,\n",
       "    'y': -104816997.035887,\n",
       "    'z': -45436350.371684},\n",
       "   'attitude_quaternions': {'q0': -0.198514,\n",
       "    'q1': -0.189564,\n",
       "    'q2': 0.339039,\n",
       "    'q3': 0.899834}}},\n",
       " {'identifier': '20231113133131',\n",
       "  'caption': \"This image was taken by NASA's EPIC camera onboard the NOAA DSCOVR spacecraft\",\n",
       "  'image': 'epic_1b_20231113133131',\n",
       "  'version': '03',\n",
       "  'centroid_coordinates': {'lat': -12.004395, 'lon': -30.358887},\n",
       "  'dscovr_j2000_position': {'x': -1084772.144459,\n",
       "   'y': -1066782.516667,\n",
       "   'z': -321907.453125},\n",
       "  'lunar_j2000_position': {'x': -234182.331165,\n",
       "   'y': -274441.613549,\n",
       "   'z': -137078.051834},\n",
       "  'sun_j2000_position': {'x': -94027367.513768,\n",
       "   'y': -104928993.686662,\n",
       "   'z': -45484909.181223},\n",
       "  'attitude_quaternions': {'q0': -0.199974,\n",
       "   'q1': -0.190487,\n",
       "   'q2': 0.339041,\n",
       "   'q3': 0.899316},\n",
       "  'date': '2023-11-13 13:26:43',\n",
       "  'coords': {'centroid_coordinates': {'lat': -12.004395, 'lon': -30.358887},\n",
       "   'dscovr_j2000_position': {'x': -1084772.144459,\n",
       "    'y': -1066782.516667,\n",
       "    'z': -321907.453125},\n",
       "   'lunar_j2000_position': {'x': -234182.331165,\n",
       "    'y': -274441.613549,\n",
       "    'z': -137078.051834},\n",
       "   'sun_j2000_position': {'x': -94027367.513768,\n",
       "    'y': -104928993.686662,\n",
       "    'z': -45484909.181223},\n",
       "   'attitude_quaternions': {'q0': -0.199974,\n",
       "    'q1': -0.190487,\n",
       "    'q2': 0.339041,\n",
       "    'q3': 0.899316}}}]"
      ]
     },
     "execution_count": 7,
     "metadata": {},
     "output_type": "execute_result"
    }
   ],
   "source": [
    "resp.json()"
   ]
  },
  {
   "cell_type": "code",
   "execution_count": 10,
   "id": "26b8f2e9-4354-4fc9-871d-4dff6b25666a",
   "metadata": {},
   "outputs": [],
   "source": [
    "resp = requests.get(\"https://epic.gsfc.nasa.gov/api/natural/all\")"
   ]
  },
  {
   "cell_type": "code",
   "execution_count": 11,
   "id": "f45ca230-fe81-413e-ac06-cc9de6a7df8f",
   "metadata": {},
   "outputs": [
    {
     "data": {
      "text/plain": [
       "2704"
      ]
     },
     "execution_count": 11,
     "metadata": {},
     "output_type": "execute_result"
    }
   ],
   "source": [
    "len(resp.json())"
   ]
  },
  {
   "cell_type": "code",
   "execution_count": 51,
   "id": "cafe5c38-90f9-4cc2-ab1c-17b90658ff4e",
   "metadata": {},
   "outputs": [],
   "source": [
    "images = []\n",
    "\n",
    "resp = requests.get(\"https://epic.gsfc.nasa.gov/api/natural/all\")\n",
    "for entry in resp.json()[:10]:\n",
    "    date = entry[\"date\"]\n",
    "    url = \"https://epic.gsfc.nasa.gov/api/natural/date/\" + date\n",
    "    metadata = requests.get(url)\n",
    "    for data in metadata.json():\n",
    "        name = data[\"image\"]\n",
    "        coordinates = data[\"centroid_coordinates\"]\n",
    "        # print(name, coordinates)\n",
    "        images.append({\"name\": name, \"lat\": coordinates[\"lat\"], \"lon\": coordinates[\"lon\"], \"date\": date})\n",
    "\n",
    "df_images = pd.DataFrame(images)"
   ]
  },
  {
   "cell_type": "code",
   "execution_count": 52,
   "id": "be56785e-0035-43c5-95e6-84c5d224d50a",
   "metadata": {},
   "outputs": [
    {
     "data": {
      "text/plain": [
       "<Axes: xlabel='lon', ylabel='lat'>"
      ]
     },
     "execution_count": 52,
     "metadata": {},
     "output_type": "execute_result"
    },
    {
     "data": {
      "image/png": "[encoded data removed]",
      "text/plain": [
       "<Figure size 640x480 with 1 Axes>"
      ]
     },
     "metadata": {},
     "output_type": "display_data"
    }
   ],
   "source": [
    "df_images.plot.scatter(\"lon\", \"lat\")"
   ]
  },
  {
   "cell_type": "code",
   "execution_count": 53,
   "id": "dcb021d0-a3f9-47b8-86b9-2425bdc9e72e",
   "metadata": {},
   "outputs": [
    {
     "data": {
      "text/html": [
       "<div>\n",
       "<style scoped>\n",
       "    .dataframe tbody tr th:only-of-type {\n",
       "        vertical-align: middle;\n",
       "    }\n",
       "\n",
       "    .dataframe tbody tr th {\n",
       "        vertical-align: top;\n",
       "    }\n",
       "\n",
       "    .dataframe thead th {\n",
       "        text-align: right;\n",
       "    }\n",
       "</style>\n",
       "<table border=\"1\" class=\"dataframe\">\n",
       "  <thead>\n",
       "    <tr style=\"text-align: right;\">\n",
       "      <th></th>\n",
       "      <th>lat</th>\n",
       "      <th>lon</th>\n",
       "    </tr>\n",
       "  </thead>\n",
       "  <tbody>\n",
       "    <tr>\n",
       "      <th>count</th>\n",
       "      <td>103.000000</td>\n",
       "      <td>103.000000</td>\n",
       "    </tr>\n",
       "    <tr>\n",
       "      <th>mean</th>\n",
       "      <td>-10.515943</td>\n",
       "      <td>8.854767</td>\n",
       "    </tr>\n",
       "    <tr>\n",
       "      <th>std</th>\n",
       "      <td>0.875858</td>\n",
       "      <td>101.756590</td>\n",
       "    </tr>\n",
       "    <tr>\n",
       "      <th>min</th>\n",
       "      <td>-12.458496</td>\n",
       "      <td>-167.570801</td>\n",
       "    </tr>\n",
       "    <tr>\n",
       "      <th>25%</th>\n",
       "      <td>-11.257324</td>\n",
       "      <td>-79.497071</td>\n",
       "    </tr>\n",
       "    <tr>\n",
       "      <th>50%</th>\n",
       "      <td>-10.458984</td>\n",
       "      <td>21.672363</td>\n",
       "    </tr>\n",
       "    <tr>\n",
       "      <th>75%</th>\n",
       "      <td>-9.766846</td>\n",
       "      <td>96.807862</td>\n",
       "    </tr>\n",
       "    <tr>\n",
       "      <th>max</th>\n",
       "      <td>-9.030762</td>\n",
       "      <td>171.892090</td>\n",
       "    </tr>\n",
       "  </tbody>\n",
       "</table>\n",
       "</div>"
      ],
      "text/plain": [
       "              lat         lon\n",
       "count  103.000000  103.000000\n",
       "mean   -10.515943    8.854767\n",
       "std      0.875858  101.756590\n",
       "min    -12.458496 -167.570801\n",
       "25%    -11.257324  -79.497071\n",
       "50%    -10.458984   21.672363\n",
       "75%     -9.766846   96.807862\n",
       "max     -9.030762  171.892090"
      ]
     },
     "execution_count": 53,
     "metadata": {},
     "output_type": "execute_result"
    }
   ],
   "source": [
    "df_images.describe()"
   ]
  },
  {
   "cell_type": "code",
   "execution_count": 44,
   "id": "9cf0eb12-d176-4150-a2f0-43bb353bad18",
   "metadata": {},
   "outputs": [],
   "source": [
    "from math import sin, cos, sqrt, atan2, radians\n",
    "\n",
    "def distance(lat1,lon1,lat2,lon2):\n",
    "    dlon = radians(lon2) - radians(lon1)\n",
    "    dlat = radians(lat2) - radians(lat1)\n",
    "    \n",
    "    a = sin(dlat / 2)**2 + cos(radians(lat1)) * cos(radians(lat2)) * sin(dlon / 2)**2\n",
    "    c = 2 * atan2(sqrt(a), sqrt(1 - a))\n",
    "    R = 6373.0\n",
    "    \n",
    "    distance_haversine_formula = R * c\n",
    "    return distance_haversine_formula"
   ]
  },
  {
   "cell_type": "code",
   "execution_count": 56,
   "id": "0c14d523-d297-4bbb-9c56-6b03b2d3d7bd",
   "metadata": {},
   "outputs": [],
   "source": [
    "lat = 52.531677\n",
    "lon = 13.381777\n",
    "\n",
    "idxmin = df_images.apply(lambda x: distance(lat,lon,x.lat,x.lon), axis=1).idxmin()\n",
    "image = df_images.iloc[idxmin]"
   ]
  },
  {
   "cell_type": "code",
   "execution_count": 59,
   "id": "51da79dc-5d4e-4425-91aa-fb13da38c42d",
   "metadata": {},
   "outputs": [
    {
     "data": {
      "text/plain": [
       "'epic_1b_20231108110606'"
      ]
     },
     "execution_count": 59,
     "metadata": {},
     "output_type": "execute_result"
    }
   ],
   "source": [
    "image[\"name\"]"
   ]
  },
  {
   "cell_type": "code",
   "execution_count": 72,
   "id": "40679d81-7b2e-4d3b-a62c-4e294759cfc2",
   "metadata": {},
   "outputs": [
    {
     "data": {
      "text/plain": [
       "'https://epic.gsfc.nasa.gov/archive/natural/2023/11/08/jpg/epic_1b_20231108110606.jpg'"
      ]
     },
     "execution_count": 72,
     "metadata": {},
     "output_type": "execute_result"
    }
   ],
   "source": [
    "url = \"https://epic.gsfc.nasa.gov/archive/natural/\" + image[\"date\"].replace(\"-\", \"/\") + \"/jpg/\" + image[\"name\"] + \".jpg\"\n",
    "url"
   ]
  },
  {
   "cell_type": "code",
   "execution_count": 77,
   "id": "69c06691-ad2a-485c-a9a9-99621abe3041",
   "metadata": {},
   "outputs": [
    {
     "data": {
      "text/html": [
       "<img src=\"https://epic.gsfc.nasa.gov/archive/natural/2023/11/08/jpg/epic_1b_20231108110606.jpg\"/>"
      ],
      "text/plain": [
       "<IPython.core.display.Image object>"
      ]
     },
     "execution_count": 77,
     "metadata": {},
     "output_type": "execute_result"
    }
   ],
   "source": [
    "from IPython.display import Image\n",
    "Image(url=url)"
   ]
  },
  {
   "cell_type": "code",
   "execution_count": 82,
   "id": "0e19c7c7-bc61-45c9-9a35-66505277f5dc",
   "metadata": {},
   "outputs": [],
   "source": [
    "def get_metadata():\n",
    "    images = []\n",
    "    resp = requests.get(\"https://epic.gsfc.nasa.gov/api/natural/all\")\n",
    "    for entry in resp.json()[:]:\n",
    "        date = entry[\"date\"]\n",
    "        url = \"https://epic.gsfc.nasa.gov/api/natural/date/\" + date\n",
    "        metadata = requests.get(url)\n",
    "        for data in metadata.json():\n",
    "            name = data[\"image\"]\n",
    "            coordinates = data[\"centroid_coordinates\"]\n",
    "        # print(name, coordinates)\n",
    "            images.append({\"name\": name, \"lat\": coordinates[\"lat\"], \"lon\": coordinates[\"lon\"], \"date\": date})\n",
    "    return images        \n",
    "\n",
    "images = get_metadata()\n",
    "\n",
    "df_images = pd.DataFrame(images)"
   ]
  },
  {
   "cell_type": "code",
   "execution_count": 83,
   "id": "1db429f3-95ee-4033-80a6-edbf43c82a56",
   "metadata": {},
   "outputs": [],
   "source": [
    "df_images.to_csv(\"epic_earth.csv\")"
   ]
  },
  {
   "cell_type": "code",
   "execution_count": 84,
   "id": "55387f9d-80ee-483c-a2a5-aac529b79e5c",
   "metadata": {},
   "outputs": [
    {
     "data": {
      "text/html": [
       "<div>\n",
       "<style scoped>\n",
       "    .dataframe tbody tr th:only-of-type {\n",
       "        vertical-align: middle;\n",
       "    }\n",
       "\n",
       "    .dataframe tbody tr th {\n",
       "        vertical-align: top;\n",
       "    }\n",
       "\n",
       "    .dataframe thead th {\n",
       "        text-align: right;\n",
       "    }\n",
       "</style>\n",
       "<table border=\"1\" class=\"dataframe\">\n",
       "  <thead>\n",
       "    <tr style=\"text-align: right;\">\n",
       "      <th></th>\n",
       "      <th>lat</th>\n",
       "      <th>lon</th>\n",
       "    </tr>\n",
       "  </thead>\n",
       "  <tbody>\n",
       "    <tr>\n",
       "      <th>count</th>\n",
       "      <td>40508.000000</td>\n",
       "      <td>40508.000000</td>\n",
       "    </tr>\n",
       "    <tr>\n",
       "      <th>mean</th>\n",
       "      <td>4.295223</td>\n",
       "      <td>3.570376</td>\n",
       "    </tr>\n",
       "    <tr>\n",
       "      <th>std</th>\n",
       "      <td>16.941087</td>\n",
       "      <td>101.984464</td>\n",
       "    </tr>\n",
       "    <tr>\n",
       "      <th>min</th>\n",
       "      <td>-29.274902</td>\n",
       "      <td>-179.963379</td>\n",
       "    </tr>\n",
       "    <tr>\n",
       "      <th>25%</th>\n",
       "      <td>-9.631348</td>\n",
       "      <td>-84.407959</td>\n",
       "    </tr>\n",
       "    <tr>\n",
       "      <th>50%</th>\n",
       "      <td>8.635254</td>\n",
       "      <td>5.170898</td>\n",
       "    </tr>\n",
       "    <tr>\n",
       "      <th>75%</th>\n",
       "      <td>19.431152</td>\n",
       "      <td>91.406250</td>\n",
       "    </tr>\n",
       "    <tr>\n",
       "      <th>max</th>\n",
       "      <td>26.770020</td>\n",
       "      <td>180.000000</td>\n",
       "    </tr>\n",
       "  </tbody>\n",
       "</table>\n",
       "</div>"
      ],
      "text/plain": [
       "                lat           lon\n",
       "count  40508.000000  40508.000000\n",
       "mean       4.295223      3.570376\n",
       "std       16.941087    101.984464\n",
       "min      -29.274902   -179.963379\n",
       "25%       -9.631348    -84.407959\n",
       "50%        8.635254      5.170898\n",
       "75%       19.431152     91.406250\n",
       "max       26.770020    180.000000"
      ]
     },
     "execution_count": 84,
     "metadata": {},
     "output_type": "execute_result"
    }
   ],
   "source": [
    "df_images.describe()"
   ]
  },
  {
   "cell_type": "code",
   "execution_count": 98,
   "id": "9beaed8c-51f2-4bc9-b301-4ed93b6e08a9",
   "metadata": {},
   "outputs": [
    {
     "data": {
      "text/plain": [
       "5634"
      ]
     },
     "execution_count": 98,
     "metadata": {},
     "output_type": "execute_result"
    }
   ],
   "source": [
    "len(df_images.lat.unique())"
   ]
  },
  {
   "cell_type": "code",
   "execution_count": 88,
   "id": "5c772d14-3611-4526-ac06-badab45906eb",
   "metadata": {},
   "outputs": [
    {
     "data": {
      "text/plain": [
       "22904"
      ]
     },
     "execution_count": 88,
     "metadata": {},
     "output_type": "execute_result"
    }
   ],
   "source": [
    "len(df_images.lon.unique())"
   ]
  },
  {
   "cell_type": "code",
   "execution_count": 96,
   "id": "a15ac67f-e39c-4abe-a3cf-ed02603b739d",
   "metadata": {},
   "outputs": [
    {
     "data": {
      "text/plain": [
       "562"
      ]
     },
     "execution_count": 96,
     "metadata": {},
     "output_type": "execute_result"
    }
   ],
   "source": [
    "len(df_images.round(1).lat.unique())"
   ]
  },
  {
   "cell_type": "code",
   "execution_count": 97,
   "id": "367dffce-860f-4b7e-b785-49d3d70aef54",
   "metadata": {},
   "outputs": [
    {
     "data": {
      "text/plain": [
       "3601"
      ]
     },
     "execution_count": 97,
     "metadata": {},
     "output_type": "execute_result"
    }
   ],
   "source": [
    "len(df_images.round(1).lon.unique())"
   ]
  },
  {
   "cell_type": "code",
   "execution_count": 117,
   "id": "be50862e-9da2-4982-9eb9-3c5a69b5efd3",
   "metadata": {},
   "outputs": [
    {
     "data": {
      "text/html": [
       "<div>\n",
       "<style scoped>\n",
       "    .dataframe tbody tr th:only-of-type {\n",
       "        vertical-align: middle;\n",
       "    }\n",
       "\n",
       "    .dataframe tbody tr th {\n",
       "        vertical-align: top;\n",
       "    }\n",
       "\n",
       "    .dataframe thead th {\n",
       "        text-align: right;\n",
       "    }\n",
       "</style>\n",
       "<table border=\"1\" class=\"dataframe\">\n",
       "  <thead>\n",
       "    <tr style=\"text-align: right;\">\n",
       "      <th></th>\n",
       "      <th>lat</th>\n",
       "      <th>lon</th>\n",
       "    </tr>\n",
       "  </thead>\n",
       "  <tbody>\n",
       "    <tr>\n",
       "      <th>count</th>\n",
       "      <td>40508.000000</td>\n",
       "      <td>40508.000000</td>\n",
       "    </tr>\n",
       "    <tr>\n",
       "      <th>mean</th>\n",
       "      <td>4.074998</td>\n",
       "      <td>3.576824</td>\n",
       "    </tr>\n",
       "    <tr>\n",
       "      <th>std</th>\n",
       "      <td>17.163828</td>\n",
       "      <td>102.065306</td>\n",
       "    </tr>\n",
       "    <tr>\n",
       "      <th>min</th>\n",
       "      <td>-30.000000</td>\n",
       "      <td>-180.000000</td>\n",
       "    </tr>\n",
       "    <tr>\n",
       "      <th>25%</th>\n",
       "      <td>-10.000000</td>\n",
       "      <td>-80.000000</td>\n",
       "    </tr>\n",
       "    <tr>\n",
       "      <th>50%</th>\n",
       "      <td>10.000000</td>\n",
       "      <td>10.000000</td>\n",
       "    </tr>\n",
       "    <tr>\n",
       "      <th>75%</th>\n",
       "      <td>20.000000</td>\n",
       "      <td>90.000000</td>\n",
       "    </tr>\n",
       "    <tr>\n",
       "      <th>max</th>\n",
       "      <td>30.000000</td>\n",
       "      <td>180.000000</td>\n",
       "    </tr>\n",
       "  </tbody>\n",
       "</table>\n",
       "</div>"
      ],
      "text/plain": [
       "                lat           lon\n",
       "count  40508.000000  40508.000000\n",
       "mean       4.074998      3.576824\n",
       "std       17.163828    102.065306\n",
       "min      -30.000000   -180.000000\n",
       "25%      -10.000000    -80.000000\n",
       "50%       10.000000     10.000000\n",
       "75%       20.000000     90.000000\n",
       "max       30.000000    180.000000"
      ]
     },
     "execution_count": 117,
     "metadata": {},
     "output_type": "execute_result"
    }
   ],
   "source": [
    "df_images.round(-1).describe()"
   ]
  },
  {
   "cell_type": "code",
   "execution_count": 120,
   "id": "226ce5b6-354d-4f0a-ad58-04dedd47bc71",
   "metadata": {},
   "outputs": [],
   "source": [
    "df_images_rounded = df_images.round(0).sort_values(\"date\").groupby([\"lat\", \"lon\"]).tail(1)"
   ]
  },
  {
   "cell_type": "code",
   "execution_count": 121,
   "id": "dd48f574-c26e-4055-be8a-68c2149e4fb8",
   "metadata": {},
   "outputs": [],
   "source": [
    "df_images_rounded.to_csv(\"epic_earth_rounded.csv\")"
   ]
  },
  {
   "cell_type": "code",
   "execution_count": null,
   "id": "6fc542e6-c2e5-4277-8171-a923ad42822c",
   "metadata": {},
   "outputs": [],
   "source": []
  }
 ],
 "metadata": {
  "kernelspec": {
   "display_name": "Python 3 (ipykernel)",
   "language": "python",
   "name": "python3"
  },
  "language_info": {
   "codemirror_mode": {
    "name": "ipython",
    "version": 3
   },
   "file_extension": ".py",
   "mimetype": "text/x-python",
   "name": "python",
   "nbconvert_exporter": "python",
   "pygments_lexer": "ipython3",
   "version": "3.9.13"
  }
 },
 "nbformat": 4,
 "nbformat_minor": 5
}
